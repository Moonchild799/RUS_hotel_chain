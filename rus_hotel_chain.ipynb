{
 "cells": [
  {
   "cell_type": "markdown",
   "metadata": {},
   "source": [
    "# Оглавление\n",
    "\n",
    "- [Вступление](#intro)\n",
    "- [Файлы с данными](#data)\n",
    "- [Предобработка и исследовательский анализ](#preprocessing)\n",
    "  - [Пропуски](#missing)\n",
    "  - [Дубликаты](#dublicated)\n",
    "    - [Явные дубликаты](#ob_dublicated)\n",
    "    - [Неявные дубликаты](#imp_dublicated)\n",
    "  - [Изменение типов данных](#types)\n",
    "  - [Аномалии](#anomalies)\n",
    "  - [Промежуточный вывод по предобработке](#prep_conclusion)\n",
    "  - [Исследовательский анализ](#eda)\n",
    "  - [Выводы по исследовательскому анализу](#eda_conclusion)\n",
    "- [Формулировка ML-задачи](#ml_task)\n",
    "  - [Расчёт прибыли без учёта депозитов](#profit_no_deposits)\n",
    "  - [Вывод по расчёту прибыли без депозитов](#no_deposits_conclusion)\n",
    "- [Разработка ML модели](#ml_model)\n",
    "  - [Подготовка данных для модели](#data_preparation)\n",
    "  - [Случайный лес](#rf)\n",
    "  - [Древо решений](#dt)\n",
    "  - [Тестовая выборка](#test)\n",
    "  - [Вывод по ML моделе](#ml_conclusion)\n",
    "- [Портрет \"Ненадёжного\" клиента](#unreliable_client)\n",
    "- [Вывод](#conclusion)"
   ]
  },
  {
   "cell_type": "markdown",
   "metadata": {},
   "source": [
    "<a id='intro'></a>\n",
    "## Вступление\n",
    "\n",
    "Сеть отелей добавила возможность бронирования без внесения предоплаты. При использовании такой системы есть риск убытков из-за отказов от брони. Перед нами стоит задача разработать систему предсказывающую отказ от бронирования. Если модель предскажет отказ, то данному клиенту будет предложено внести депозит в размере 80% от стоимости.\n",
    "\n",
    "Нам предоставлены два файла с данными, один из которых содержит данные необходимые для обучения модели, другой для её тестирования. Изучим эти данные, сделаем предобработку при необходимости. До создания модели, проведём исследовательский анализ данных и сделаем выводы по нему. После этого займёмся созданием модели."
   ]
  },
  {
   "cell_type": "markdown",
   "metadata": {},
   "source": [
    "### Предоставленые дополнительные данные\n",
    "\n",
    "Существует несколько типов номеров в данной сети отелей и в зависимсти от этого назначается стоимость за одну ночь. Присутствуют также затраты на уборку, если клиент снимает номер надолго, то убираются каждые два дня.\n",
    "\n",
    "- категория A: за ночь — 1 000, разовое обслуживание — 400;\n",
    "- категория B: за ночь — 800, разовое обслуживание — 350;\n",
    "- категория C: за ночь — 600, разовое обслуживание — 350;\n",
    "- категория D: за ночь — 550, разовое обслуживание — 150;\n",
    "- категория E: за ночь — 500, разовое обслуживание — 150;\n",
    "- категория F: за ночь — 450, разовое обслуживание — 150;\n",
    "- категория G: за ночь — 350, разовое обслуживание — 150.\n",
    "\n",
    "Сеть отелей использует сезонные коэффициенты:\n",
    "\n",
    "- Весна, Осень: цены повышаются на 20%\n",
    "- Лето: цены повышаются на 40%\n",
    "\n",
    "За убытки в случае отмены брони считается стоимость одной уборки и одной ночи с учётом сезона.\n",
    "\n",
    "На разработку системы выделен бюджет 400 тысяч. Внедрение должно окупится за тестовый период."
   ]
  },
  {
   "cell_type": "markdown",
   "metadata": {},
   "source": [
    "<a id='data'></a>\n",
    "## Файлы с данными"
   ]
  },
  {
   "cell_type": "markdown",
   "metadata": {},
   "source": [
    "**Импортируем необходимые библиотеки**"
   ]
  },
  {
   "cell_type": "code",
   "execution_count": 1,
   "metadata": {},
   "outputs": [],
   "source": [
    "import pandas as pd\n",
    "import matplotlib.pyplot as plt\n",
    "import seaborn as sns\n",
    "import numpy as np\n",
    "\n",
    "from sklearn.model_selection import GridSearchCV\n",
    "from sklearn.preprocessing import StandardScaler, OrdinalEncoder \n",
    "\n",
    "from sklearn.linear_model import LogisticRegression \n",
    "from sklearn.tree import DecisionTreeClassifier\n",
    "from sklearn.ensemble import RandomForestClassifier\n",
    "\n",
    "from sklearn.metrics import accuracy_score, precision_score, recall_score, f1_score"
   ]
  },
  {
   "cell_type": "markdown",
   "metadata": {},
   "source": [
    "**Читаем исходные файлы**"
   ]
  },
  {
   "cell_type": "code",
   "execution_count": 2,
   "metadata": {},
   "outputs": [],
   "source": [
    "try:\n",
    "    hotels_train = pd.read_csv('hotel_train.csv')\n",
    "    hotels_test = pd.read_csv('hotel_test.csv')\n",
    "except:\n",
    "    hotels_train = pd.read_csv('/datasets/hotel_train.csv')\n",
    "    hotels_test = pd.read_csv('/datasets/hotel_test.csv')"
   ]
  },
  {
   "cell_type": "markdown",
   "metadata": {},
   "source": [
    "**Основная информация о датафреймах**"
   ]
  },
  {
   "cell_type": "code",
   "execution_count": 3,
   "metadata": {},
   "outputs": [],
   "source": [
    "hotels_train.info()\n",
    "hotels_test.info()"
   ]
  },
  {
   "cell_type": "code",
   "execution_count": 4,
   "metadata": {},
   "outputs": [
    {
     "data": {},
     "metadata": {},
     "output_type": "display_data"
    },
    {
     "data": {},
     "metadata": {},
     "output_type": "display_data"
    }
   ],
   "source": [
    "pd.set_option('display.max_columns', 50)\n",
    "display(hotels_train.head(10))\n",
    "display(hotels_test.head(10))"
   ]
  },
  {
   "cell_type": "markdown",
   "metadata": {},
   "source": [
    "- В обоих датасетах 25 колонок. В тренировочных данных 65229 строк, в тестовых - 32412.\n",
    "- Колонки `lead_time`, `adults`, `children`, `babies` должны быть в целочисленном формате, а тут мы видим вещественный тип. На этапе предобработки посмотрим более детально на эти столбцы.\n",
    "\n",
    "Посмотрели на основную базовую информацию содержащуюся в датасетах, теперь приступим к предобработке и исследовательскому анализу."
   ]
  },
  {
   "cell_type": "markdown",
   "metadata": {},
   "source": [
    "<a id='preprocessing'></a>\n",
    "## Предобработка и исследовательский анализ данных"
   ]
  },
  {
   "cell_type": "markdown",
   "metadata": {},
   "source": [
    "<a id='missing'></a>\n",
    "### Пропуски\n",
    "\n",
    "Для начала посмотрим есть ли пропуски в данных."
   ]
  },
  {
   "cell_type": "code",
   "execution_count": 5,
   "metadata": {},
   "outputs": [
    {
     "data": {},
     "execution_count": 5,
     "metadata": {},
     "output_type": "execute_result"
    }
   ],
   "source": [
    "hotels_train.isna().sum()"
   ]
  },
  {
   "cell_type": "code",
   "execution_count": 6,
   "metadata": {},
   "outputs": [
    {
     "data": {},
     "execution_count": 6,
     "metadata": {},
     "output_type": "execute_result"
    }
   ],
   "source": [
    "hotels_test.isna().sum()"
   ]
  },
  {
   "cell_type": "markdown",
   "metadata": {},
   "source": [
    "Пропусков нет. Проверим явные дубликаты."
   ]
  },
  {
   "cell_type": "markdown",
   "metadata": {},
   "source": [
    "<a id='dublicated'></a>\n",
    "### Дубликаты"
   ]
  },
  {
   "cell_type": "markdown",
   "metadata": {},
   "source": [
    "<a id='ob_dublicated'></a>\n",
    "#### Явные дубликаты"
   ]
  },
  {
   "cell_type": "code",
   "execution_count": 7,
   "metadata": {},
   "outputs": [
    {
     "data": {},
     "execution_count": 7,
     "metadata": {},
     "output_type": "execute_result"
    }
   ],
   "source": [
    "hotels_train.duplicated().sum()"
   ]
  },
  {
   "cell_type": "code",
   "execution_count": 8,
   "metadata": {},
   "outputs": [
    {
     "data": {},
     "execution_count": 8,
     "metadata": {},
     "output_type": "execute_result"
    }
   ],
   "source": [
    "hotels_test.duplicated().sum()"
   ]
  },
  {
   "cell_type": "markdown",
   "metadata": {},
   "source": [
    "Явных дубликатов нет."
   ]
  },
  {
   "cell_type": "markdown",
   "metadata": {},
   "source": [
    "<a id='imp_dublicated'></a>\n",
    "#### Неявные дубликаты\n",
    "\n",
    " Проверим те столбцы в которых потенциально могут находится неявные дубликаты: `arrival_date_month`, `meal`, `country`, `distribution_channel`, `reserved_room_type`, `customer_type`"
   ]
  },
  {
   "cell_type": "code",
   "execution_count": 9,
   "metadata": {},
   "outputs": [
    {
     "data": {},
     "metadata": {},
     "output_type": "display_data"
    },
    {
     "data": {},
     "metadata": {},
     "output_type": "display_data"
    }
   ],
   "source": [
    "display(hotels_train['arrival_date_month'].unique())\n",
    "display(hotels_test['arrival_date_month'].unique())"
   ]
  },
  {
   "cell_type": "markdown",
   "metadata": {},
   "source": [
    "Колонка `arrival_date_month` содержит корректные значения."
   ]
  },
  {
   "cell_type": "code",
   "execution_count": 10,
   "metadata": {},
   "outputs": [
    {
     "data": {},
     "metadata": {},
     "output_type": "display_data"
    },
    {
     "data": {},
     "metadata": {},
     "output_type": "display_data"
    }
   ],
   "source": [
    "display(hotels_train['meal'].unique())\n",
    "display(hotels_test['meal'].unique())"
   ]
  },
  {
   "cell_type": "markdown",
   "metadata": {},
   "source": [
    "В столбце `meal` есть неявные дубликаты, а так же нарушен стиль заполнения (есть лишние пробелы). Уберём пробелы."
   ]
  },
  {
   "cell_type": "code",
   "execution_count": 11,
   "metadata": {},
   "outputs": [],
   "source": [
    "hotels_train['meal'] = hotels_train['meal'].str.strip()\n",
    "hotels_test['meal'] = hotels_test['meal'].str.strip()"
   ]
  },
  {
   "cell_type": "code",
   "execution_count": 12,
   "metadata": {},
   "outputs": [
    {
     "data": {},
     "metadata": {},
     "output_type": "display_data"
    },
    {
     "data": {},
     "metadata": {},
     "output_type": "display_data"
    }
   ],
   "source": [
    "display(hotels_train['meal'].unique())\n",
    "display(hotels_test['meal'].unique())"
   ]
  },
  {
   "cell_type": "markdown",
   "metadata": {},
   "source": [
    "После корректировки стиля заполнения, неявные дубликаты пропали. Можем приступать к следующему столбцу."
   ]
  },
  {
   "cell_type": "code",
   "execution_count": 13,
   "metadata": {},
   "outputs": [
    {
     "data": {},
     "metadata": {},
     "output_type": "display_data"
    },
    {
     "data": {},
     "metadata": {},
     "output_type": "display_data"
    }
   ],
   "source": [
    "display(hotels_train['country'].unique())\n",
    "display(hotels_test['country'].unique())"
   ]
  },
  {
   "cell_type": "markdown",
   "metadata": {},
   "source": [
    "`country` содержит корректные значения."
   ]
  },
  {
   "cell_type": "code",
   "execution_count": 14,
   "metadata": {},
   "outputs": [
    {
     "data": {},
     "metadata": {},
     "output_type": "display_data"
    },
    {
     "data": {},
     "metadata": {},
     "output_type": "display_data"
    }
   ],
   "source": [
    "display(hotels_train['distribution_channel'].unique())\n",
    "display(hotels_test['distribution_channel'].unique())"
   ]
  },
  {
   "cell_type": "markdown",
   "metadata": {},
   "source": [
    "`distribution_channel` содержит корректные значения."
   ]
  },
  {
   "cell_type": "code",
   "execution_count": 15,
   "metadata": {},
   "outputs": [
    {
     "data": {},
     "metadata": {},
     "output_type": "display_data"
    },
    {
     "data": {},
     "metadata": {},
     "output_type": "display_data"
    }
   ],
   "source": [
    "display(hotels_train['reserved_room_type'].unique())\n",
    "display(hotels_test['reserved_room_type'].unique())"
   ]
  },
  {
   "cell_type": "markdown",
   "metadata": {},
   "source": [
    "В стоблце `reserved_room_type` значения корректные, но содержат лишнии пробелы. Уберём их."
   ]
  },
  {
   "cell_type": "code",
   "execution_count": 16,
   "metadata": {},
   "outputs": [],
   "source": [
    "hotels_train['reserved_room_type'] = hotels_train['reserved_room_type'].str.strip()\n",
    "hotels_test['reserved_room_type'] = hotels_test['reserved_room_type'].str.strip()"
   ]
  },
  {
   "cell_type": "code",
   "execution_count": 17,
   "metadata": {},
   "outputs": [
    {
     "data": {},
     "metadata": {},
     "output_type": "display_data"
    },
    {
     "data": {},
     "metadata": {},
     "output_type": "display_data"
    }
   ],
   "source": [
    "display(hotels_train['reserved_room_type'].unique())\n",
    "display(hotels_test['reserved_room_type'].unique())"
   ]
  },
  {
   "cell_type": "markdown",
   "metadata": {},
   "source": [
    "Пробелы убрали, приступаем к следующей колонке."
   ]
  },
  {
   "cell_type": "code",
   "execution_count": 18,
   "metadata": {},
   "outputs": [
    {
     "data": {},
     "metadata": {},
     "output_type": "display_data"
    },
    {
     "data": {},
     "metadata": {},
     "output_type": "display_data"
    }
   ],
   "source": [
    "display(hotels_train['customer_type'].unique())\n",
    "display(hotels_test['customer_type'].unique())"
   ]
  },
  {
   "cell_type": "markdown",
   "metadata": {},
   "source": [
    "`customer_type` содержит корректные значения"
   ]
  },
  {
   "cell_type": "markdown",
   "metadata": {},
   "source": [
    "<a id='types'></a>\n",
    "### Изменения типов данных\n",
    "\n",
    "Ранее заметили что колонки `lead_time`, `adults`, `children`, `babies` находятся в вещественном типе, а должны в целочисленном. Произведём изменения типа в этих колонках."
   ]
  },
  {
   "cell_type": "code",
   "execution_count": 19,
   "metadata": {},
   "outputs": [],
   "source": [
    "hotels_train['lead_time'] = hotels_train['lead_time'].astype('int16')\n",
    "hotels_train['adults'] = hotels_train['adults'].astype('int8')\n",
    "hotels_train['children'] = hotels_train['children'].astype('int8')\n",
    "hotels_train['babies'] = hotels_train['babies'].astype('int8')\n",
    "\n",
    "hotels_test['lead_time'] = hotels_test['lead_time'].astype('int16')\n",
    "hotels_test['adults'] = hotels_test['adults'].astype('int8')\n",
    "hotels_test['children'] = hotels_test['children'].astype('int8')\n",
    "hotels_test['babies'] = hotels_test['babies'].astype('int8')"
   ]
  },
  {
   "cell_type": "markdown",
   "metadata": {},
   "source": [
    "А так же скорректируем остальные целочисленные колонки. Они указаны в типе int64 что хранящейся в них информации избыточно, поменяем на int16 и int8."
   ]
  },
  {
   "cell_type": "code",
   "execution_count": 20,
   "metadata": {},
   "outputs": [],
   "source": [
    "hotels_train['is_canceled'] = hotels_train['is_canceled'].astype('int8')\n",
    "hotels_train['arrival_date_year'] = hotels_train['arrival_date_year'].astype('int16')\n",
    "hotels_train['arrival_date_week_number'] = hotels_train['arrival_date_week_number'].astype('int8')\n",
    "hotels_train['arrival_date_day_of_month'] = hotels_train['arrival_date_day_of_month'].astype('int8')\n",
    "hotels_train['stays_in_weekend_nights'] = hotels_train['stays_in_weekend_nights'].astype('int8')\n",
    "hotels_train['stays_in_week_nights'] = hotels_train['stays_in_week_nights'].astype('int8')\n",
    "hotels_train['is_repeated_guest'] = hotels_train['is_repeated_guest'].astype('int8')\n",
    "hotels_train['previous_cancellations'] = hotels_train['previous_cancellations'].astype('int8')\n",
    "hotels_train['previous_bookings_not_canceled'] = hotels_train['previous_bookings_not_canceled'].astype('int8')\n",
    "hotels_train['booking_changes'] = hotels_train['booking_changes'].astype('int8')\n",
    "hotels_train['days_in_waiting_list'] = hotels_train['days_in_waiting_list'].astype('int16')\n",
    "hotels_train['required_car_parking_spaces'] = hotels_train['required_car_parking_spaces'].astype('int8')\n",
    "hotels_train['total_of_special_requests'] = hotels_train['total_of_special_requests'].astype('int8')\n",
    "hotels_train['total_nights'] = hotels_train['total_nights'].astype('int8')\n",
    "\n",
    "hotels_test['is_canceled'] = hotels_test['is_canceled'].astype('int8')\n",
    "hotels_test['arrival_date_year'] = hotels_test['arrival_date_year'].astype('int16')\n",
    "hotels_test['arrival_date_week_number'] = hotels_test['arrival_date_week_number'].astype('int8')\n",
    "hotels_test['arrival_date_day_of_month'] = hotels_test['arrival_date_day_of_month'].astype('int8')\n",
    "hotels_test['stays_in_weekend_nights'] = hotels_test['stays_in_weekend_nights'].astype('int8')\n",
    "hotels_test['stays_in_week_nights'] = hotels_test['stays_in_week_nights'].astype('int8')\n",
    "hotels_test['is_repeated_guest'] = hotels_test['is_repeated_guest'].astype('int8')\n",
    "hotels_test['previous_cancellations'] = hotels_test['previous_cancellations'].astype('int8')\n",
    "hotels_test['previous_bookings_not_canceled'] = hotels_test['previous_bookings_not_canceled'].astype('int8')\n",
    "hotels_test['booking_changes'] = hotels_test['booking_changes'].astype('int8')\n",
    "hotels_test['days_in_waiting_list'] = hotels_test['days_in_waiting_list'].astype('int16')\n",
    "hotels_test['required_car_parking_spaces'] = hotels_test['required_car_parking_spaces'].astype('int8')\n",
    "hotels_test['total_of_special_requests'] = hotels_test['total_of_special_requests'].astype('int8')\n",
    "hotels_test['total_nights'] = hotels_test['total_nights'].astype('int8')"
   ]
  },
  {
   "cell_type": "code",
   "execution_count": 21,
   "metadata": {},
   "outputs": [],
   "source": [
    "hotels_train.info()\n",
    "hotels_test.info()"
   ]
  },
  {
   "cell_type": "markdown",
   "metadata": {},
   "source": [
    "Теперь все столбцы находятся в корректных типах."
   ]
  },
  {
   "cell_type": "markdown",
   "metadata": {},
   "source": [
    "<a id='anomalies'></a>\n",
    "### Аномалии\n",
    "\n",
    "Проверим есть ли в данных аномалии. Для начала выведем гистограммы по всем стобцам."
   ]
  },
  {
   "cell_type": "code",
   "execution_count": 22,
   "metadata": {},
   "outputs": [
    {
     "data": {
      "image/png": "[encoded data removed]"
     },
     "metadata": {
      "needs_background": "light"
     },
     "output_type": "display_data"
    }
   ],
   "source": [
    "hotels_train.hist(figsize=(15, 20));"
   ]
  },
  {
   "cell_type": "code",
   "execution_count": 23,
   "metadata": {},
   "outputs": [
    {
     "data": {
      "image/png": "[encoded data removed]"
     },
     "metadata": {
      "needs_background": "light"
     },
     "output_type": "display_data"
    }
   ],
   "source": [
    "hotels_test.hist(figsize=(15, 20));"
   ]
  },
  {
   "cell_type": "markdown",
   "metadata": {},
   "source": [
    "В тренировочных данных гистограмма колонки `babies` показывает что есть значения доходящие до 10, в то время как в тестовых только до 2. Посмотрим какие значения в ней находятся."
   ]
  },
  {
   "cell_type": "code",
   "execution_count": 24,
   "metadata": {},
   "outputs": [
    {
     "data": {},
     "metadata": {},
     "output_type": "display_data"
    },
    {
     "data": {},
     "metadata": {},
     "output_type": "display_data"
    }
   ],
   "source": [
    "display(hotels_train['babies'].sort_values().unique())\n",
    "display(hotels_test['babies'].sort_values().unique())"
   ]
  },
  {
   "cell_type": "markdown",
   "metadata": {},
   "source": [
    "Видим что в обоих датасетах есть значения 0, 1, 2, но в тренировочном есть ещё 9, 10. Данные значения скорей всего аномалии посмотрим сколько их."
   ]
  },
  {
   "cell_type": "code",
   "execution_count": 25,
   "metadata": {},
   "outputs": [
    {
     "data": {},
     "execution_count": 25,
     "metadata": {},
     "output_type": "execute_result"
    }
   ],
   "source": [
    "hotels_train.query('babies > 2').sort_values(by='babies')"
   ]
  },
  {
   "cell_type": "markdown",
   "metadata": {},
   "source": [
    "Нашли две строки, удалим их."
   ]
  },
  {
   "cell_type": "code",
   "execution_count": 26,
   "metadata": {},
   "outputs": [],
   "source": [
    "hotels_train = hotels_train.query('babies <= 2').reset_index(drop=True)"
   ]
  },
  {
   "cell_type": "code",
   "execution_count": 27,
   "metadata": {},
   "outputs": [
    {
     "data": {},
     "metadata": {},
     "output_type": "display_data"
    }
   ],
   "source": [
    "display(hotels_train['babies'].sort_values().unique())"
   ]
  },
  {
   "cell_type": "markdown",
   "metadata": {},
   "source": [
    "Удалили аномалии в колонке `babies`.\n",
    "\n",
    "В колонке `required_car_parking_spaces` наблюдаем потенциальные аномалии в тестовом датасете."
   ]
  },
  {
   "cell_type": "code",
   "execution_count": 28,
   "metadata": {},
   "outputs": [
    {
     "data": {},
     "metadata": {},
     "output_type": "display_data"
    },
    {
     "data": {},
     "metadata": {},
     "output_type": "display_data"
    }
   ],
   "source": [
    "display(hotels_train['required_car_parking_spaces'].sort_values().unique())\n",
    "display(hotels_test['required_car_parking_spaces'].sort_values().unique())"
   ]
  },
  {
   "cell_type": "markdown",
   "metadata": {},
   "source": [
    "В обоих датасетах типичные значения 0, 1 , 2, 3. Но в тестовом есть ещё 8, посмотрим на их колличество."
   ]
  },
  {
   "cell_type": "code",
   "execution_count": 29,
   "metadata": {},
   "outputs": [
    {
     "data": {},
     "execution_count": 29,
     "metadata": {},
     "output_type": "execute_result"
    }
   ],
   "source": [
    "hotels_test.query('required_car_parking_spaces > 3').sort_values(by='required_car_parking_spaces')"
   ]
  },
  {
   "cell_type": "markdown",
   "metadata": {},
   "source": [
    "Нашли две строки, удалим их."
   ]
  },
  {
   "cell_type": "code",
   "execution_count": 30,
   "metadata": {},
   "outputs": [],
   "source": [
    "hotels_test = hotels_test.query('required_car_parking_spaces <= 3').reset_index(drop=True)"
   ]
  },
  {
   "cell_type": "code",
   "execution_count": 31,
   "metadata": {},
   "outputs": [
    {
     "data": {},
     "metadata": {},
     "output_type": "display_data"
    }
   ],
   "source": [
    "display(hotels_test['required_car_parking_spaces'].sort_values().unique())"
   ]
  },
  {
   "cell_type": "markdown",
   "metadata": {},
   "source": [
    "Удалили аномалии в колонке `required_car_parking_spaces`.\n",
    "\n",
    "В колонке `adults` видим что есть значения 0, данные значения являются аномалиями, посмотрим сколько их."
   ]
  },
  {
   "cell_type": "code",
   "execution_count": 32,
   "metadata": {},
   "outputs": [
    {
     "data": {},
     "metadata": {},
     "output_type": "display_data"
    },
    {
     "data": {},
     "metadata": {},
     "output_type": "display_data"
    }
   ],
   "source": [
    "display(hotels_train['adults'].sort_values().unique())\n",
    "display(hotels_test['adults'].sort_values().unique())"
   ]
  },
  {
   "cell_type": "code",
   "execution_count": 33,
   "metadata": {},
   "outputs": [
    {
     "data": {},
     "execution_count": 33,
     "metadata": {},
     "output_type": "execute_result"
    }
   ],
   "source": [
    "hotels_train.query('adults < 1')"
   ]
  },
  {
   "cell_type": "code",
   "execution_count": 34,
   "metadata": {},
   "outputs": [
    {
     "data": {},
     "execution_count": 34,
     "metadata": {},
     "output_type": "execute_result"
    }
   ],
   "source": [
    "hotels_test.query('adults < 1')"
   ]
  },
  {
   "cell_type": "markdown",
   "metadata": {},
   "source": [
    "Нашли 166 строк в тренировочном датасете и 69 в тестовом. Удалим их."
   ]
  },
  {
   "cell_type": "code",
   "execution_count": 35,
   "metadata": {},
   "outputs": [],
   "source": [
    "hotels_train = hotels_train.query('adults > 0').reset_index(drop=True)\n",
    "hotels_test = hotels_test.query('adults > 0').reset_index(drop=True)"
   ]
  },
  {
   "cell_type": "markdown",
   "metadata": {},
   "source": [
    "<a id='prep_conclusion'></a>\n",
    "### Промежуточный вывод по предобработке данных\n",
    "\n",
    "Проверили имеющиеся в наличии датасеты на пропуски, дубликаты, аномалии, а так же проверили корректность типов данных в столбцах.\n",
    "\n",
    "- Пропуски в данных отсутствовали.\n",
    "- Дубликаты проверяли явные и неявные.\n",
    " - Явных дубликатов не было.\n",
    " - Нашли неявные в колонке `meal`, а так же в процессе проверки выявили некоректный стиль заполнения в данной колонке и `reserved_room_type`. После исправления стиля неявных дубликатов в данных не осталось.\n",
    "- Выявили аномалии в трёх колонках `babies`, `required_car_parking_spaces` и `adults`. В сумме 239 аномальные строки, 168 из тренировочного датасета и 71 из тестового. Эти строки удалили.\n",
    "- Столбцы `lead_time`, `adults`, `children`, `babies` находились в вещественном типе. Исправили на целочисленный.\n",
    "\n",
    "С предобработкой закончили. Приступим к исследовательскому анализу данных."
   ]
  },
  {
   "cell_type": "markdown",
   "metadata": {},
   "source": [
    "<a id='eda'></a>\n",
    "### Исследовательский анализ данных"
   ]
  },
  {
   "cell_type": "markdown",
   "metadata": {},
   "source": [
    "**Отмена заказа**\n",
    "\n",
    "Посмотрим на отношение отменённых и не отменённых заказов."
   ]
  },
  {
   "cell_type": "code",
   "execution_count": 36,
   "metadata": {},
   "outputs": [
    {
     "data": {
      "image/png": "[encoded data removed]"
     },
     "metadata": {
      "needs_background": "light"
     },
     "output_type": "display_data"
    }
   ],
   "source": [
    "class_frequency = hotels_train['is_canceled'].value_counts(normalize=True)\n",
    "print(class_frequency)\n",
    "class_frequency.plot(kind='bar');"
   ]
  },
  {
   "cell_type": "code",
   "execution_count": 37,
   "metadata": {},
   "outputs": [
    {
     "data": {
      "image/png": "[encoded data removed]"
     },
     "metadata": {
      "needs_background": "light"
     },
     "output_type": "display_data"
    }
   ],
   "source": [
    "class_frequency = hotels_test['is_canceled'].value_counts(normalize=True)\n",
    "print(class_frequency)\n",
    "class_frequency.plot(kind='bar');"
   ]
  },
  {
   "cell_type": "markdown",
   "metadata": {},
   "source": [
    "Есть небольшой дисбаланс классов, но не критичный. 63% и 61% - не отменённых заказы в тренировочных и тестовых данных соответсвенно. 37%, 39% - отменённые.\n",
    "\n",
    "**Время между бронированием и прибытием**\n",
    "\n",
    "Построим гистограммы и посмотрим как распределены значения в колонке `lead_time`."
   ]
  },
  {
   "cell_type": "code",
   "execution_count": 38,
   "metadata": {},
   "outputs": [
    {
     "data": {
      "image/png": "[encoded data removed]"
     },
     "metadata": {
      "needs_background": "light"
     },
     "output_type": "display_data"
    }
   ],
   "source": [
    "fig, ax = plt.subplots()\n",
    "ax.hist(hotels_train['lead_time'], bins=15);\n",
    "ax.set_title('Время между бронированием и прибытием')\n",
    "ax.set_xlabel('Дни')\n",
    "ax.set_ylabel('Колличество')\n",
    "plt.show()"
   ]
  },
  {
   "cell_type": "code",
   "execution_count": 39,
   "metadata": {
    "scrolled": true
   },
   "outputs": [
    {
     "data": {
      "image/png": "[encoded data removed]"
     },
     "metadata": {
      "needs_background": "light"
     },
     "output_type": "display_data"
    }
   ],
   "source": [
    "fig, ax = plt.subplots()\n",
    "ax.hist(hotels_test['lead_time'], bins=15);\n",
    "ax.set_title('Время между бронированием и прибытием')\n",
    "ax.set_xlabel('Дни')\n",
    "ax.set_ylabel('Колличество')\n",
    "plt.show()"
   ]
  },
  {
   "cell_type": "markdown",
   "metadata": {},
   "source": [
    "Видим что большая часть значений расположена ближе к 0 дней и имеется длинный хвост к году. Подобное распределение выглядит логично для данного столбца."
   ]
  },
  {
   "cell_type": "markdown",
   "metadata": {},
   "source": [
    "**Месяц заезда**\n",
    "\n",
    "Посмотрим какие месяцы самые популярные, а какие менее."
   ]
  },
  {
   "cell_type": "code",
   "execution_count": 40,
   "metadata": {},
   "outputs": [
    {
     "data": {
      "image/png": "[encoded data removed]"
     },
     "metadata": {},
     "output_type": "display_data"
    }
   ],
   "source": [
    "sns.set(style=\"darkgrid\")\n",
    "\n",
    "plt.figure(figsize=(15, 7))\n",
    "sns.barplot(\n",
    "    x='arrival_date_month', \n",
    "    y=hotels_train.index, \n",
    "    data=hotels_train, \n",
    "    estimator=len, \n",
    "    ci=None, \n",
    "    color='#69b3a2');\n",
    "plt.title('Месяц заезда');\n",
    "plt.xlabel('Месяц');\n",
    "plt.ylabel('Колличество');"
   ]
  },
  {
   "cell_type": "code",
   "execution_count": 41,
   "metadata": {},
   "outputs": [
    {
     "data": {
      "image/png": "[encoded data removed]"
     },
     "metadata": {},
     "output_type": "display_data"
    }
   ],
   "source": [
    "sns.set(style=\"darkgrid\")\n",
    "\n",
    "plt.figure(figsize=(15, 7))\n",
    "sns.barplot(\n",
    "    x='arrival_date_month', \n",
    "    y=hotels_test.index, \n",
    "    data=hotels_test, \n",
    "    estimator=len, \n",
    "    ci=None, \n",
    "    color='#69b3a2');\n",
    "plt.title('Месяц заезда');\n",
    "plt.xlabel('Месяц');\n",
    "plt.ylabel('Колличество');"
   ]
  },
  {
   "cell_type": "markdown",
   "metadata": {},
   "source": [
    "Первые два месяца осени оказались самыми популярными, а январь и февраль непопулярными. Данные выводы сделаны в первую очередь на тренировочных данных. В тестовых данных у нас имеются только данные по 8 первыми месяцам. Данные по осени в них отсутсвуют.\n",
    "\n",
    "Посмотрим в каких меяцах чаще всего отменяют бронь."
   ]
  },
  {
   "cell_type": "code",
   "execution_count": 42,
   "metadata": {},
   "outputs": [
    {
     "data": {},
     "execution_count": 42,
     "metadata": {},
     "output_type": "execute_result"
    }
   ],
   "source": [
    "hotels_train.pivot_table(index='arrival_date_month',\n",
    "                         values='is_canceled',\n",
    "                         aggfunc='mean') \\\n",
    ".sort_values(by='is_canceled', ascending=False)"
   ]
  },
  {
   "cell_type": "code",
   "execution_count": 43,
   "metadata": {},
   "outputs": [
    {
     "data": {},
     "execution_count": 43,
     "metadata": {},
     "output_type": "execute_result"
    }
   ],
   "source": [
    "hotels_test.pivot_table(index='arrival_date_month',\n",
    "                         values='is_canceled',\n",
    "                         aggfunc='mean') \\\n",
    ".sort_values(by='is_canceled', ascending=False)"
   ]
  },
  {
   "cell_type": "markdown",
   "metadata": {},
   "source": [
    "Чаще всего отменяют бронь в июне и апреле. Меньше всего в начале года: январь, февраль, март."
   ]
  },
  {
   "cell_type": "markdown",
   "metadata": {},
   "source": [
    "**Повторные клиенты**\n",
    "\n",
    "Посмотрим на колличество повторных клиентов и связь с отменой бронирования."
   ]
  },
  {
   "cell_type": "code",
   "execution_count": 44,
   "metadata": {},
   "outputs": [
    {
     "data": {
      "image/png": "[encoded data removed]"
     },
     "metadata": {},
     "output_type": "display_data"
    }
   ],
   "source": [
    "sns.set(style=\"darkgrid\")\n",
    "\n",
    "plt.figure(figsize=(15, 7))\n",
    "sns.barplot(\n",
    "    x='is_repeated_guest', \n",
    "    y=hotels_train.index, \n",
    "    data=hotels_train, \n",
    "    estimator=len, \n",
    "    ci=None, \n",
    "    color='#69b3a2');\n",
    "plt.title('Повторные клиенты');\n",
    "plt.xlabel('Факт повторного клиента');\n",
    "plt.ylabel('Колличество');"
   ]
  },
  {
   "cell_type": "code",
   "execution_count": 45,
   "metadata": {},
   "outputs": [
    {
     "data": {
      "image/png": "[encoded data removed]"
     },
     "metadata": {},
     "output_type": "display_data"
    }
   ],
   "source": [
    "sns.set(style=\"darkgrid\")\n",
    "\n",
    "plt.figure(figsize=(15, 7))\n",
    "sns.barplot(\n",
    "    x='is_repeated_guest', \n",
    "    y=hotels_test.index, \n",
    "    data=hotels_test, \n",
    "    estimator=len, \n",
    "    ci=None, \n",
    "    color='#69b3a2');\n",
    "plt.title('Повторные клиенты');\n",
    "plt.xlabel('Факт повторного клиента');\n",
    "plt.ylabel('Колличество');"
   ]
  },
  {
   "cell_type": "code",
   "execution_count": 46,
   "metadata": {},
   "outputs": [
    {
     "data": {},
     "execution_count": 46,
     "metadata": {},
     "output_type": "execute_result"
    }
   ],
   "source": [
    "hotels_train.pivot_table(index='is_repeated_guest',\n",
    "                         values='is_canceled',\n",
    "                         aggfunc='mean') \\\n",
    ".sort_values(by='is_canceled', ascending=False)"
   ]
  },
  {
   "cell_type": "code",
   "execution_count": 47,
   "metadata": {},
   "outputs": [
    {
     "data": {},
     "execution_count": 47,
     "metadata": {},
     "output_type": "execute_result"
    }
   ],
   "source": [
    "hotels_test.pivot_table(index='is_repeated_guest',\n",
    "                         values='is_canceled',\n",
    "                         aggfunc='mean') \\\n",
    ".sort_values(by='is_canceled', ascending=False)"
   ]
  },
  {
   "cell_type": "markdown",
   "metadata": {},
   "source": [
    "Большинство клиентов бронируют в первый раз. Те клиенты которые делают бронь не первый раз менее склонны к её отмене."
   ]
  },
  {
   "cell_type": "markdown",
   "metadata": {},
   "source": [
    "**Общее колличество ночей**\n",
    "\n",
    "Посмотрим есть ли связь общего колличества ночей и отменой брони."
   ]
  },
  {
   "cell_type": "code",
   "execution_count": 48,
   "metadata": {},
   "outputs": [
    {
     "data": {},
     "execution_count": 48,
     "metadata": {},
     "output_type": "execute_result"
    }
   ],
   "source": [
    "hotels_train.pivot_table(index='total_nights',\n",
    "                         values='is_canceled',\n",
    "                         aggfunc='mean') \\\n",
    ".sort_values(by='is_canceled', ascending=False)"
   ]
  },
  {
   "cell_type": "code",
   "execution_count": 49,
   "metadata": {},
   "outputs": [
    {
     "data": {},
     "execution_count": 49,
     "metadata": {},
     "output_type": "execute_result"
    }
   ],
   "source": [
    "hotels_test.pivot_table(index='total_nights',\n",
    "                         values='is_canceled',\n",
    "                         aggfunc='mean') \\\n",
    ".sort_values(by='is_canceled', ascending=False)"
   ]
  },
  {
   "cell_type": "markdown",
   "metadata": {},
   "source": [
    "Результаты в обоих датасетах различаются, но есть одна общая черта. Те кто снимают на одну ночь реже всего отменяют бронь."
   ]
  },
  {
   "cell_type": "code",
   "execution_count": 50,
   "metadata": {},
   "outputs": [],
   "source": [
    "train_plot = hotels_train.groupby('total_nights').agg(mean=('is_canceled', 'mean'))\n",
    "test_plot = hotels_test.groupby('total_nights').agg(mean=('is_canceled', 'mean'))"
   ]
  },
  {
   "cell_type": "code",
   "execution_count": 51,
   "metadata": {},
   "outputs": [
    {
     "data": {
      "image/png": "[encoded data removed]"
     },
     "metadata": {},
     "output_type": "display_data"
    }
   ],
   "source": [
    "sns.set(style=\"darkgrid\")\n",
    "plt.figure(figsize=(15, 7))\n",
    "\n",
    "sns.barplot(\n",
    "    x=train_plot.index, \n",
    "    y='mean', \n",
    "    data=train_plot, \n",
    "    estimator=sum, \n",
    "    ci=None,\n",
    "    alpha=0.6,\n",
    "    color='green');\n",
    "\n",
    "\n",
    "sns.barplot(\n",
    "    x=test_plot.index, \n",
    "    y='mean', \n",
    "    data=test_plot, \n",
    "    estimator=sum, \n",
    "    ci=None,\n",
    "    alpha=0.6,\n",
    "    color='blue');\n",
    "\n",
    "plt.title('Отношение количества ночей к отмене брони');\n",
    "plt.xlabel('Ночи');\n",
    "plt.ylabel('Доля отмен');"
   ]
  },
  {
   "cell_type": "markdown",
   "metadata": {},
   "source": [
    "**Канал дистрибуции заказа**\n",
    "\n",
    "Посмотрим как каналы дистрибуции влияют на отмену брони."
   ]
  },
  {
   "cell_type": "code",
   "execution_count": 52,
   "metadata": {},
   "outputs": [
    {
     "data": {},
     "execution_count": 52,
     "metadata": {},
     "output_type": "execute_result"
    }
   ],
   "source": [
    "hotels_train.pivot_table(index='distribution_channel',\n",
    "                         values='is_canceled',\n",
    "                         aggfunc='mean') \\\n",
    ".sort_values(by='is_canceled', ascending=False)"
   ]
  },
  {
   "cell_type": "code",
   "execution_count": 53,
   "metadata": {},
   "outputs": [
    {
     "data": {},
     "execution_count": 53,
     "metadata": {},
     "output_type": "execute_result"
    }
   ],
   "source": [
    "hotels_test.pivot_table(index='distribution_channel',\n",
    "                         values='is_canceled',\n",
    "                         aggfunc='mean') \\\n",
    ".sort_values(by='is_canceled', ascending=False)"
   ]
  },
  {
   "cell_type": "markdown",
   "metadata": {},
   "source": [
    "Результаты по обоим датасетам примерно одинаковые. TA/TO с отрывом самый ненадёжный канал. Direct и GDS самые надёжные. Corporate находится ближе к Direct и GDS."
   ]
  },
  {
   "cell_type": "markdown",
   "metadata": {},
   "source": [
    "**Тип заказчика**\n",
    "\n",
    "Посмотрим влияет ли тип заказчки на отмену."
   ]
  },
  {
   "cell_type": "code",
   "execution_count": 54,
   "metadata": {},
   "outputs": [
    {
     "data": {},
     "execution_count": 54,
     "metadata": {},
     "output_type": "execute_result"
    }
   ],
   "source": [
    "hotels_train.pivot_table(index='customer_type',\n",
    "                         values='is_canceled',\n",
    "                         aggfunc='mean') \\\n",
    ".sort_values(by='is_canceled', ascending=False)"
   ]
  },
  {
   "cell_type": "code",
   "execution_count": 55,
   "metadata": {},
   "outputs": [
    {
     "data": {},
     "execution_count": 55,
     "metadata": {},
     "output_type": "execute_result"
    }
   ],
   "source": [
    "hotels_test.pivot_table(index='customer_type',\n",
    "                         values='is_canceled',\n",
    "                         aggfunc='mean') \\\n",
    ".sort_values(by='is_canceled', ascending=False)"
   ]
  },
  {
   "cell_type": "markdown",
   "metadata": {},
   "source": [
    "Можем сделать вывод что самыми надёжными являются групповые заезды. Остальные типы в датасетах сильно отличаются, по ним не можем однозначных выводов сделать."
   ]
  },
  {
   "cell_type": "markdown",
   "metadata": {},
   "source": [
    "**Специальные отметки**\n",
    "\n",
    "Проверим влиет ли колличество специальных отметок на отмену."
   ]
  },
  {
   "cell_type": "code",
   "execution_count": 56,
   "metadata": {},
   "outputs": [
    {
     "data": {},
     "execution_count": 56,
     "metadata": {},
     "output_type": "execute_result"
    }
   ],
   "source": [
    "hotels_train.pivot_table(index='total_of_special_requests',\n",
    "                         values='is_canceled',\n",
    "                         aggfunc='mean') \\\n",
    ".sort_values(by='is_canceled', ascending=False)"
   ]
  },
  {
   "cell_type": "code",
   "execution_count": 57,
   "metadata": {},
   "outputs": [
    {
     "data": {},
     "execution_count": 57,
     "metadata": {},
     "output_type": "execute_result"
    }
   ],
   "source": [
    "hotels_test.pivot_table(index='total_of_special_requests',\n",
    "                         values='is_canceled',\n",
    "                         aggfunc='mean') \\\n",
    ".sort_values(by='is_canceled', ascending=False)"
   ]
  },
  {
   "cell_type": "markdown",
   "metadata": {},
   "source": [
    "Можем сделать вывод что клиенты которые не оставляют никаких специальных отметок более склонны к отмене брони чем те что оставляют хотя бы 1 отметку или более."
   ]
  },
  {
   "cell_type": "markdown",
   "metadata": {},
   "source": [
    "<a id='eda_conclusion'></a>\n",
    "### Вывод по исследовательскому анализу данных\n",
    "\n",
    "Посмотрели как различные данные могут влиять на отмену брони.\n",
    "\n",
    "- Самыми ненадёжными месяцами оказались июнь и апрель, а начало года (январь, февраль, март) менее склонны к отмене.\n",
    "- Клиенты которые делают бронь первый раз намного более склонны к отмене.\n",
    "- Те кто снимают на одну ночь менее склонны к отмене.\n",
    "- Выяснили что канал дистрибуции влияет на отмену. TA/TO самый ненадёжный в то время как Direct и GDS самые надёжные\n",
    "- Тип заказчика так же влияет, групповые заезды самые надёжные. Но по остальным не можем сделать конкретных выводов.\n",
    "- Наличии специальных отметок влияет на отмену. Клиенты которые не оставлют отметок более склонны к отмене.\n",
    "\n",
    "Посмотрели на баланс классов. Есть небольшой дисбаланс в обоих датасетах, но не критичный."
   ]
  },
  {
   "cell_type": "markdown",
   "metadata": {},
   "source": [
    "<a id='ml_task'></a>\n",
    "## Формулировка ML-задачи на основе бизнес-задачи"
   ]
  },
  {
   "cell_type": "markdown",
   "metadata": {},
   "source": [
    "<a id='profit_no_deposits'></a>\n",
    "### Расчёт прибыли без учёта депозитов\n",
    "\n",
    "Расчитаем прибыль на тестовом датасете, без учёта депозитов предлагаемых системой предсказывающей отмену. Тоесть если клиент отменил бронь, то сеть теряет деньги потраченные на разовую уборку номера.\n",
    "\n",
    "Расчёт прибыли будет вестись следующим образом:\n",
    "\n",
    "**Цена номера (учитывая отменена ли бронь или нет) * Коэфициент * Колличество ночей - Затраты на уборку * Количество ночей (учитывая что если клиент снимает больше 2 ночей то уборка делается раз в два дня)**\n",
    "\n",
    "Таким образом мы выясним прибыль с каждого клиента.\n",
    "\n",
    "Для начала запишем константы которые нам понадобятся для рассчёта прибыли."
   ]
  },
  {
   "cell_type": "code",
   "execution_count": 58,
   "metadata": {},
   "outputs": [],
   "source": [
    "BUDGET = 400000 # Бюджет выделенный на разработку системы прогнозирования\n",
    "\n",
    "A_PRICE = 1000 # Стоимости номеров различных категорий за ночь\n",
    "B_PRICE = 800\n",
    "C_PRICE = 600\n",
    "D_PRICE = 550\n",
    "E_PRICE = 500\n",
    "F_PRICE = 450\n",
    "G_PRICE = 350\n",
    "\n",
    "A_MAINTENANCE = 400 # Затраты на разовую уборку номера, по категориям\n",
    "B_MAINTENANCE = 350\n",
    "C_MAINTENANCE = 350\n",
    "D_MAINTENANCE = 150\n",
    "E_MAINTENANCE = 150\n",
    "F_MAINTENANCE = 150\n",
    "G_MAINTENANCE = 150\n",
    "\n",
    "SUMMER_COEF = 1.4 # Летний коэфициент\n",
    "SPRING_FALL_COEF = 1.2 # Весенне-осенний коэфициент\n",
    "\n",
    "DEPOSIT = 0.8 # Размер депозита"
   ]
  },
  {
   "cell_type": "markdown",
   "metadata": {},
   "source": [
    "Для более удобной работы с коэфициентами создадим два списка с летними и осенне-весенними месяцами."
   ]
  },
  {
   "cell_type": "code",
   "execution_count": 59,
   "metadata": {},
   "outputs": [],
   "source": [
    "summer = ['June', 'July', 'August']\n",
    "spring_fall = ['March', 'April', 'May', 'September', 'October', 'November']"
   ]
  },
  {
   "cell_type": "markdown",
   "metadata": {},
   "source": [
    "Напишем функции с помощью которых добавим в датафрейм сезонные коэфициенты, цену за номер в соответсвии с её типом, стоимость разовой уборки в соответсвии с типом."
   ]
  },
  {
   "cell_type": "code",
   "execution_count": 60,
   "metadata": {},
   "outputs": [],
   "source": [
    "# Функция для добавления сезонного коэфициента\n",
    "def coef(season):\n",
    "    if season in summer:\n",
    "        return SUMMER_COEF\n",
    "    elif season in spring_fall:\n",
    "        return SPRING_FALL_COEF\n",
    "    else:\n",
    "        return 1\n",
    "\n",
    "# Функция для добавления стоймости за ночь    \n",
    "def room_type(room_type):\n",
    "    if room_type == 'A':\n",
    "        return A_PRICE\n",
    "    elif room_type == 'B':\n",
    "        return B_PRICE\n",
    "    elif room_type == 'C':\n",
    "        return C_PRICE\n",
    "    elif room_type == 'D':\n",
    "        return D_PRICE\n",
    "    elif room_type == 'E':\n",
    "        return E_PRICE\n",
    "    elif room_type == 'F':\n",
    "        return F_PRICE\n",
    "    elif room_type == 'G':\n",
    "        return G_PRICE\n",
    "\n",
    "# Функция для добавления стоймости уборки\n",
    "def maintenance(room_type):\n",
    "    if room_type == 'A':\n",
    "        return A_MAINTENANCE\n",
    "    elif room_type == 'B':\n",
    "        return B_MAINTENANCE\n",
    "    elif room_type == 'C':\n",
    "        return C_MAINTENANCE\n",
    "    elif room_type == 'D':\n",
    "        return D_MAINTENANCE\n",
    "    elif room_type == 'E':\n",
    "        return E_MAINTENANCE\n",
    "    elif room_type == 'F':\n",
    "        return F_MAINTENANCE\n",
    "    elif room_type == 'G':\n",
    "        return G_MAINTENANCE"
   ]
  },
  {
   "cell_type": "markdown",
   "metadata": {},
   "source": [
    "Теперь у нас есть необходимые функции, добавим данные столбцы в датафрейм."
   ]
  },
  {
   "cell_type": "code",
   "execution_count": 61,
   "metadata": {},
   "outputs": [],
   "source": [
    "hotels_test['coefficient'] = hotels_test['arrival_date_month'].apply(coef)\n",
    "hotels_test['price_per_night'] = hotels_test['reserved_room_type'].apply(room_type)\n",
    "hotels_test['maintenance_cost'] = hotels_test['reserved_room_type'].apply(maintenance)"
   ]
  },
  {
   "cell_type": "code",
   "execution_count": 62,
   "metadata": {},
   "outputs": [
    {
     "data": {},
     "execution_count": 62,
     "metadata": {},
     "output_type": "execute_result"
    }
   ],
   "source": [
    "hotels_test"
   ]
  },
  {
   "cell_type": "markdown",
   "metadata": {},
   "source": [
    "Добавили и убедились что они добавлены корректно. Теперь нам нужно скорректировать стобец с ценой, с учётом тех клиентов которые отменили бронь."
   ]
  },
  {
   "cell_type": "code",
   "execution_count": 63,
   "metadata": {},
   "outputs": [],
   "source": [
    "hotels_test.loc[(hotels_test['is_canceled'] == 1), 'price_per_night'] = -hotels_test['price_per_night']"
   ]
  },
  {
   "cell_type": "markdown",
   "metadata": {},
   "source": [
    "Изменили колонку с ценой за ночь для клиентов отменивших бронь. Теперь посчитаем итоговые расходы на уборку номера учтя количество ночей."
   ]
  },
  {
   "cell_type": "code",
   "execution_count": 64,
   "metadata": {},
   "outputs": [],
   "source": [
    "hotels_test.loc[(hotels_test['total_nights'] > 2) & (hotels_test['is_canceled'] != 1), 'maintenance_cost'] = \\\n",
    "hotels_test['maintenance_cost'] * ((hotels_test['total_nights'] + 1) // 2)"
   ]
  },
  {
   "cell_type": "code",
   "execution_count": 65,
   "metadata": {},
   "outputs": [
    {
     "data": {},
     "execution_count": 65,
     "metadata": {},
     "output_type": "execute_result"
    }
   ],
   "source": [
    "hotels_test"
   ]
  },
  {
   "cell_type": "markdown",
   "metadata": {},
   "source": [
    "Сейчас в датафрейме у нас есть все данные необходимые для подсчёта прибыли с каждого клиента. Добавим столбец с данным рассчётом."
   ]
  },
  {
   "cell_type": "code",
   "execution_count": 66,
   "metadata": {},
   "outputs": [],
   "source": [
    "hotels_test.loc[(hotels_test['is_canceled'] == 1), 'income'] = \\\n",
    "    hotels_test['price_per_night'] * \\\n",
    "    hotels_test['coefficient'] - \\\n",
    "    hotels_test['maintenance_cost']\n",
    "\n",
    "hotels_test.loc[(hotels_test['is_canceled'] == 0), 'income'] = \\\n",
    "    hotels_test['price_per_night'] * \\\n",
    "    hotels_test['coefficient'] * \\\n",
    "    hotels_test['total_nights'] - \\\n",
    "    hotels_test['maintenance_cost']"
   ]
  },
  {
   "cell_type": "markdown",
   "metadata": {},
   "source": [
    "Посчитаем сколько сеть заработала за год."
   ]
  },
  {
   "cell_type": "code",
   "execution_count": 68,
   "metadata": {},
   "outputs": [],
   "source": [
    "income_without_deposit = hotels_test['income'].sum() * (12/8)\n",
    "print(income_without_deposit)"
   ]
  },
  {
   "cell_type": "markdown",
   "metadata": {},
   "source": [
    "<a id='no_deposits_conclusion'></a>\n",
    "### Вывод по расчёту прибыли без депозитов\n",
    "\n",
    "Получили 52.83 миллионов прибыли за год учитываю потери из-за бездепозитной системы. Сеть хочет ввести систему при которой используется модель машинного обучения предсказывающая отменит ли бронь клиент. Если модель предскажет что отменит, то будет предложен внести депозит в размере 80% от стоимости за ночь. На разработку этой системы выделено 400тысяч. Затраты должны окупится за тестовый период, тоесть с учётом модели мы должны получить прибыль за год на тестовом датасете не меньше чем 53.23миллионов. Приступим к следующему шагу - создание модели."
   ]
  },
  {
   "cell_type": "markdown",
   "metadata": {},
   "source": [
    "<a id='ml_model'></a>\n",
    "## Разработка ML модели"
   ]
  },
  {
   "cell_type": "markdown",
   "metadata": {},
   "source": [
    "<a id='data_preparation'></a>\n",
    "### Подготовка данных для модели\n",
    "\n",
    "**Удаление ненужных данных**\n",
    "\n",
    "Удалим ненужные для обучения модели стобцы."
   ]
  },
  {
   "cell_type": "code",
   "execution_count": 69,
   "metadata": {},
   "outputs": [],
   "source": [
    "hotels_train = hotels_train.drop(['country',\n",
    "                                  'id',\n",
    "                                  'arrival_date_year'], axis=1).reset_index(drop=True)\n",
    "\n",
    "hotels_test = hotels_test.drop(['country',\n",
    "                                'id',\n",
    "                                'arrival_date_year',\n",
    "                                'coefficient',\n",
    "                                'price_per_night',\n",
    "                                'maintenance_cost',\n",
    "                                'income'], axis=1).reset_index(drop=True)"
   ]
  },
  {
   "cell_type": "code",
   "execution_count": 70,
   "metadata": {},
   "outputs": [
    {
     "data": {},
     "metadata": {},
     "output_type": "display_data"
    },
    {
     "data": {},
     "metadata": {},
     "output_type": "display_data"
    }
   ],
   "source": [
    "display(hotels_train.shape)\n",
    "display(hotels_test.shape)"
   ]
  },
  {
   "cell_type": "markdown",
   "metadata": {},
   "source": [
    "Стобцы удалили, проверели размеры датасетов, в обоих одинаковое колличество стобцов. Можем приступить к кодировке категориальных переменных.\n",
    "\n",
    "**Порядковое кодирование**\n",
    "\n",
    "В качестве кодировки выберем порядковое кодирование (Ordinal Encoding). Прямое кодирование нам не подойдёт, так как у есть такие стобцы как например содержащие месяца и колличество вариантов в датафреймах отличается. В тестовом данные за осенние месяцы отсутсвуют. Если бы мы применяли прямое кодирование, то у нас было бы различное колличество столбцов."
   ]
  },
  {
   "cell_type": "code",
   "execution_count": 71,
   "metadata": {},
   "outputs": [],
   "source": [
    "encoder = OrdinalEncoder(handle_unknown='use_encoded_value', unknown_value=1234)\n",
    "encoder.fit(hotels_train)\n",
    "train_ordinal = pd.DataFrame(encoder.transform(hotels_train),\n",
    "                            columns=hotels_train.columns)\n",
    "\n",
    "test_ordinal = pd.DataFrame(encoder.transform(hotels_test),\n",
    "                            columns=hotels_test.columns)"
   ]
  },
  {
   "cell_type": "markdown",
   "metadata": {},
   "source": [
    "Кодировку выполнили, можем приступить к разбивке признаков. Целевым признаком для модели будет столбец `is_canceled` содержащий информацию о том отменил ли клиент бронь или нет. Перед моделью стоит задача классификации."
   ]
  },
  {
   "cell_type": "code",
   "execution_count": 72,
   "metadata": {},
   "outputs": [],
   "source": [
    "features_train = train_ordinal.drop('is_canceled', axis=1)\n",
    "features_test = test_ordinal.drop('is_canceled', axis=1)\n",
    "\n",
    "target_train = train_ordinal['is_canceled']\n",
    "target_test = test_ordinal['is_canceled']"
   ]
  },
  {
   "cell_type": "code",
   "execution_count": 73,
   "metadata": {},
   "outputs": [
    {
     "data": {},
     "metadata": {},
     "output_type": "display_data"
    },
    {
     "data": {},
     "metadata": {},
     "output_type": "display_data"
    },
    {
     "data": {},
     "metadata": {},
     "output_type": "display_data"
    },
    {
     "data": {},
     "metadata": {},
     "output_type": "display_data"
    }
   ],
   "source": [
    "display(features_train.shape)\n",
    "display(features_test.shape)\n",
    "display(target_train.shape)\n",
    "display(target_test.shape)"
   ]
  },
  {
   "cell_type": "markdown",
   "metadata": {},
   "source": [
    "Выполнили разбивку и проверили размеры. Разбивка выполнена корректно.\n",
    "\n",
    "**Масштабирование**\n",
    "\n",
    "Выполним масштабирование признаков для уравнивания их веса в процессе обучения модели."
   ]
  },
  {
   "cell_type": "code",
   "execution_count": 74,
   "metadata": {},
   "outputs": [],
   "source": [
    "pd.options.mode.chained_assignment = None\n",
    "\n",
    "numeric = list(features_train.columns)\n",
    "\n",
    "scaler = StandardScaler()\n",
    "scaler.fit(features_train[numeric])\n",
    "features_train[numeric] = scaler.transform(features_train[numeric])\n",
    "features_test[numeric] = scaler.transform(features_test[numeric])"
   ]
  },
  {
   "cell_type": "markdown",
   "metadata": {},
   "source": [
    "<a id='rf'></a>\n",
    "### Случайный Лес\n",
    "\n",
    "Используя кросс-валидацию GridSearchCV подберём лучшие гиперпараметры для модели случайный лес. В качестве метрики качества будем использовать Recall, так как нас больше интересует чтобы модель лучше предсказывала положительный класс. Если модель предскажет ошибочно отрицательный класс, то отель не предложит депозит и потеряет деньги, а если модель предскажет ошибочно положительный класс, отель предложит депозит, клиент не отменяет бронь и деньги сеть не теряет."
   ]
  },
  {
   "cell_type": "code",
   "execution_count": 75,
   "metadata": {},
   "outputs": [],
   "source": [
    "n_estimators = list(range(10, 151, 20))\n",
    "max_depth = list(range(1, 15, 2))"
   ]
  },
  {
   "cell_type": "code",
   "execution_count": 76,
   "metadata": {},
   "outputs": [],
   "source": [
    "rf = RandomForestClassifier()\n",
    "params = {\n",
    "    'random_state': [12345],\n",
    "    'class_weight':['balanced', None],\n",
    "    'n_estimators': n_estimators,\n",
    "    'max_depth': max_depth\n",
    "         }\n",
    "\n",
    "rf_clf = GridSearchCV(\n",
    "    estimator=rf,\n",
    "    param_grid=params,\n",
    "    cv=5,\n",
    "    scoring='recall'\n",
    ")"
   ]
  },
  {
   "cell_type": "markdown",
   "metadata": {},
   "source": [
    "Указали перечень гиперпараметров среди которых GridSerchCV выберет модель показавшую лучшие результаты."
   ]
  },
  {
   "cell_type": "code",
   "execution_count": 77,
   "metadata": {},
   "outputs": [
    {
     "data": {},
     "execution_count": 77,
     "metadata": {},
     "output_type": "execute_result"
    }
   ],
   "source": [
    "%%time\n",
    "rf_clf.fit(features_train, target_train)"
   ]
  },
  {
   "cell_type": "code",
   "execution_count": 78,
   "metadata": {},
   "outputs": [],
   "source": [
    "print(rf_clf.best_estimator_)\n",
    "print(\"Recall модели:\", rf_clf.best_score_)"
   ]
  },
  {
   "cell_type": "markdown",
   "metadata": {},
   "source": [
    "Получили модель с **Recall: 0.791** на тренировочных данных.\n",
    "<a id='dt'></a>\n",
    "### Древо решений\n",
    "\n",
    "Как и для случайного леса будем использовать кросс-валидацию GridSearchCV для подбора гиперпараметров древа решений."
   ]
  },
  {
   "cell_type": "code",
   "execution_count": 79,
   "metadata": {},
   "outputs": [],
   "source": [
    "max_depth = list(range(1, 21, 2))\n",
    "min_samples_leaf = list(range(1, 21))"
   ]
  },
  {
   "cell_type": "code",
   "execution_count": 80,
   "metadata": {},
   "outputs": [],
   "source": [
    "dt = DecisionTreeClassifier()\n",
    "params = {\n",
    "    'random_state': [12345],\n",
    "    'class_weight':['balanced', None],\n",
    "    'min_samples_leaf': min_samples_leaf,\n",
    "    'max_depth': max_depth\n",
    "         }\n",
    "\n",
    "dt_clf = GridSearchCV(\n",
    "    estimator=dt,\n",
    "    param_grid=params,\n",
    "    cv=5,\n",
    "    scoring='recall'\n",
    ")"
   ]
  },
  {
   "cell_type": "code",
   "execution_count": 81,
   "metadata": {},
   "outputs": [
    {
     "data": {},
     "execution_count": 81,
     "metadata": {},
     "output_type": "execute_result"
    }
   ],
   "source": [
    "%%time\n",
    "dt_clf.fit(features_train, target_train)"
   ]
  },
  {
   "cell_type": "code",
   "execution_count": 82,
   "metadata": {},
   "outputs": [],
   "source": [
    "print(dt_clf.best_estimator_)\n",
    "print(\"Recall модели:\", dt_clf.best_score_)"
   ]
  },
  {
   "cell_type": "markdown",
   "metadata": {},
   "source": [
    "Получили модель с **Recall: 0.584** на тренировочных данных."
   ]
  },
  {
   "cell_type": "markdown",
   "metadata": {},
   "source": [
    "<a id='test'></a>\n",
    "### Тестовая выборка"
   ]
  },
  {
   "cell_type": "markdown",
   "metadata": {},
   "source": [
    "На тренировочных данных обучили две модели: случайный лес и древо решений. Первая показала лучшие результаты, будем использовать её на тестовых данных.\n",
    "\n",
    "Сделаем предсказания используя нашу обученную модель."
   ]
  },
  {
   "cell_type": "code",
   "execution_count": 83,
   "metadata": {},
   "outputs": [],
   "source": [
    "predicted = rf_clf.predict(features_test)\n",
    "print('Accuracy:', accuracy_score(target_test, predicted))\n",
    "print('F1:', f1_score(target_test, predicted))\n",
    "print('recall', recall_score(target_test, predicted))\n",
    "print('precision', precision_score(target_test, predicted))"
   ]
  },
  {
   "cell_type": "markdown",
   "metadata": {},
   "source": [
    "Получили **Recall: 0.682**. Преобразуем наши предсказания в Series."
   ]
  },
  {
   "cell_type": "code",
   "execution_count": 84,
   "metadata": {},
   "outputs": [],
   "source": [
    "predicted = pd.Series(predicted).reset_index(drop=True)"
   ]
  },
  {
   "cell_type": "markdown",
   "metadata": {},
   "source": [
    "Теперь присоединим наши предсказания к датафрейму с тестовыми данными."
   ]
  },
  {
   "cell_type": "code",
   "execution_count": 85,
   "metadata": {},
   "outputs": [],
   "source": [
    "hotels_predicted = hotels_test.assign(predicted_canceled = predicted)"
   ]
  },
  {
   "cell_type": "markdown",
   "metadata": {},
   "source": [
    "Напишем функцию с помощью которой узнаем прибыль сети отелей за год при использовании данной модели."
   ]
  },
  {
   "cell_type": "code",
   "execution_count": 86,
   "metadata": {},
   "outputs": [],
   "source": [
    "def income(dataframe):\n",
    "    # По аналогии с расчётом прибыли до модели, создаём колонки для коэфициентов, стоймости за ночь и обслуживания.\n",
    "    dataframe['coefficient'] = dataframe['arrival_date_month'].apply(coef)\n",
    "    dataframe['price_per_night'] = dataframe['reserved_room_type'].apply(room_type)\n",
    "    dataframe['maintenance_cost'] = dataframe['reserved_room_type'].apply(maintenance)        \n",
    "    \n",
    "    # Расчитываем итоговую стоймость обслуживания с учётом предсказания модели.\n",
    "    dataframe.loc[((dataframe['total_nights'] > 2) & (dataframe['predicted_canceled'] != 1)) | \\\n",
    "                  (dataframe['is_canceled'] != 1), 'maintenance_cost'] = \\\n",
    "    dataframe['maintenance_cost'] * ((dataframe['total_nights'] / 2).apply(np.ceil))    \n",
    "\n",
    "    \n",
    "    # Расчёт дохода в случае когда модель правильно предсказала первый класс.\n",
    "    dataframe.loc[(dataframe['predicted_canceled'] == 1) & (dataframe['is_canceled'] == 1), 'income'] = \\\n",
    "        (DEPOSIT - 1) * \\\n",
    "        dataframe['price_per_night'] * \\\n",
    "        dataframe['coefficient'] - \\\n",
    "        dataframe['maintenance_cost']\n",
    "    \n",
    "    # Расчёт дохода в случае когда модель правильно предсказала нулевой класс или ложно первый класс.\n",
    "    dataframe.loc[((dataframe['predicted_canceled'] == 0) | (dataframe['predicted_canceled'] == 1)) & \\\n",
    "                  (dataframe['is_canceled'] == 0), 'income'] = \\\n",
    "        dataframe['price_per_night'] * \\\n",
    "        dataframe['coefficient'] * \\\n",
    "        dataframe['total_nights'] - \\\n",
    "        dataframe['maintenance_cost']\n",
    "    \n",
    "    # Расчёт дохода в случае когда модель ложно предсказала нулевой класс.\n",
    "    dataframe.loc[(dataframe['predicted_canceled'] == 0) & (dataframe['is_canceled'] == 1), 'income'] = \\\n",
    "        -(dataframe['price_per_night']) * \\\n",
    "        dataframe['coefficient'] - \\\n",
    "        dataframe['maintenance_cost']"
   ]
  },
  {
   "cell_type": "markdown",
   "metadata": {},
   "source": [
    "Функция написана, теперь применим её и посчитаем итоговую прибыль за год."
   ]
  },
  {
   "cell_type": "code",
   "execution_count": 87,
   "metadata": {},
   "outputs": [],
   "source": [
    "income(hotels_predicted)"
   ]
  },
  {
   "cell_type": "code",
   "execution_count": 89,
   "metadata": {},
   "outputs": [],
   "source": [
    "income_with_deposit = hotels_predicted['income'].sum() * (12/8)\n",
    "print('Прибыль за год с депозитом:', income_with_deposit)\n",
    "print('Прибыль за год без депозита:', income_without_deposit)\n",
    "print('Разница в выручке учитывая затраты на разработку:', income_with_deposit - BUDGET - income_without_deposit)"
   ]
  },
  {
   "cell_type": "markdown",
   "metadata": {},
   "source": [
    "Прибыль с использованием модели получили 62.3 миллиона."
   ]
  },
  {
   "cell_type": "markdown",
   "metadata": {},
   "source": [
    "<a id='ml_conclusion'></a>\n",
    "### Вывод по ML моделе\n",
    "\n",
    "Подготовили датасеты для модели: \n",
    "\n",
    "- Удалили не нужные для обучения столбцы.\n",
    "- Сделали порядковое кодирование и масштабирование данных.\n",
    "- Определили целевой признак. Перед моделью стоит задача классификации двух классов (0 - бронь не отменена, 1 - бронь отменена).\n",
    "- Выбрали метрику качества (Recall) по которой выберали модель.\n",
    "\n",
    "Сравнивали два типа моделей классификации: Случайный Лес и Древо Решений. Логистическую регрессию не рассматривали так как мы делали порядковое кодирование, а данные подготовленные таким образом не подходят для Логистической регрессии. Подбор гиперпараметров и обучение моделей на тестовой выборке делали с помощью кросс-валидации GridSearchCV. По итогу случайный лес показал лучшие результаты.\n",
    "\n",
    "Применили нашу модель для предсказаний на тестовом датасете. После этого смогли проверить окупится ли разработка системы прогнозирования. В прошлом пункте мы рассчитали прибыль за год без модели - 52.8 миллионов. На разработку выделено 400 тысяч, которые нужно окупить за год. С использованием модели у нас удалось получить прибыль в размере 62.3 миллионов. В итоге если учесть затраты на разработку, использование модели принесёт дополнительные 9 миллионов за тестовый период."
   ]
  },
  {
   "cell_type": "markdown",
   "metadata": {},
   "source": [
    "<a id='unreliable_client'></a>\n",
    "## Опишим портрет «ненадёжного» клиента"
   ]
  },
  {
   "cell_type": "markdown",
   "metadata": {},
   "source": [
    "Как мы выяслини в процессе исследовательского анализа, наиболее значительными признаками являются:\n",
    "\n",
    "- Отсутствие специальных отметок при бронировании. Человек которые имеет какие-то дополнительные пожелания менее вероятно отменит бронь.\n",
    "- Люди которые до этого в этой сети бронировали так же менее склонные отменять бронь, тем те кто делают это в первый раз.\n",
    "- Начало лета-конец весны, период когда часто отменяют бронь. Возможно связанно с отпускными планами у людей, так как мы видим на тестовом датасете в эти месяцы больше всего данных. Много людей бронируют на эти месяцы, а потом что-то меняется и отменяют бронь. В то время зимой меньше всего отмен.\n",
    "- Бронь через канал дистрибуции TA/TO самая ненадёжная."
   ]
  },
  {
   "cell_type": "markdown",
   "metadata": {},
   "source": [
    "<a id='conclusion'></a>\n",
    "## Общий вывод"
   ]
  },
  {
   "cell_type": "markdown",
   "metadata": {},
   "source": [
    "Перед нами стояла задача разработать модель прогнозирования отказа от брони для сети отелей и оценить её прибыльность. На разработку выделено 400 тысяч, которые должны окупится за тестовый период. Данных результатов нам удалось добится.\n",
    "\n",
    "Нам предоставили два датасета, один для обучения модели, другой для тестирования. Провели предобработку этих данных и провели исследовательский анализ. В результате анализа выяснили какие признаки влияют на отмену брони, подробнее результат описан в пунке выше, а так же в выводе по исследовательскому анализу.\n",
    "\n",
    "Посчитали прибыль не учитавая модель. Получили за тестовый период 48.9 миллионов.\n",
    "\n",
    "Подготовили данные для модели. Обучили несколько моделей на тренировочных данных и с помощью кросс-валидации определили лучшую из них - Случайный Лес. В качестве метрики качества использовали полноту (Recall). Данной моделью сделали предсказание на тестовых данных и рассчитали прибыль с учётом использования модели. Прибыль - 53.8. С учётом затраты на разработку, использование модели принесёт дополнительные 4.5 миллиона за тестовый период.\n",
    "\n",
    "Можем дать рекомендацию сети отелей, внедрить данную систему. А так же обратить внимание на канал дистрибуции TA/TO, в котором процент отказа от брони сильно отличался от остальных. Возможно стоит рассмотреть отдельную политику для работы с данным каналом."
   ]
  }
 ],
 "metadata": {
  "ExecuteTimeLog": [
   {
    "duration": 1678,
    "start_time": "2022-11-30T18:56:33.276Z"
   },
   {
    "duration": 491,
    "start_time": "2022-11-30T18:56:34.957Z"
   },
   {
    "duration": 41,
    "start_time": "2022-11-30T18:56:35.450Z"
   },
   {
    "duration": 63,
    "start_time": "2022-11-30T18:56:35.493Z"
   },
   {
    "duration": 45,
    "start_time": "2022-11-30T18:56:35.558Z"
   },
   {
    "duration": 14,
    "start_time": "2022-11-30T18:56:35.605Z"
   },
   {
    "duration": 66,
    "start_time": "2022-11-30T18:56:35.621Z"
   },
   {
    "duration": 29,
    "start_time": "2022-11-30T18:56:35.688Z"
   },
   {
    "duration": 10,
    "start_time": "2022-11-30T18:56:35.718Z"
   },
   {
    "duration": 9,
    "start_time": "2022-11-30T18:56:35.731Z"
   },
   {
    "duration": 62,
    "start_time": "2022-11-30T18:56:35.742Z"
   },
   {
    "duration": 11,
    "start_time": "2022-11-30T18:56:35.806Z"
   },
   {
    "duration": 12,
    "start_time": "2022-11-30T18:56:35.818Z"
   },
   {
    "duration": 16,
    "start_time": "2022-11-30T18:56:35.831Z"
   },
   {
    "duration": 34,
    "start_time": "2022-11-30T18:56:35.849Z"
   },
   {
    "duration": 32,
    "start_time": "2022-11-30T18:56:35.885Z"
   },
   {
    "duration": 10,
    "start_time": "2022-11-30T18:56:35.919Z"
   },
   {
    "duration": 14,
    "start_time": "2022-11-30T18:56:35.931Z"
   },
   {
    "duration": 35,
    "start_time": "2022-11-30T18:56:35.947Z"
   },
   {
    "duration": 69,
    "start_time": "2022-11-30T18:56:35.984Z"
   },
   {
    "duration": 2014,
    "start_time": "2022-11-30T18:56:36.055Z"
   },
   {
    "duration": 1947,
    "start_time": "2022-11-30T18:56:38.071Z"
   },
   {
    "duration": 9,
    "start_time": "2022-11-30T18:56:40.020Z"
   },
   {
    "duration": 20,
    "start_time": "2022-11-30T18:56:40.031Z"
   },
   {
    "duration": 41,
    "start_time": "2022-11-30T18:56:40.053Z"
   },
   {
    "duration": 7,
    "start_time": "2022-11-30T18:56:40.096Z"
   },
   {
    "duration": 12,
    "start_time": "2022-11-30T18:56:40.104Z"
   },
   {
    "duration": 22,
    "start_time": "2022-11-30T18:56:40.120Z"
   },
   {
    "duration": 10,
    "start_time": "2022-11-30T18:56:40.143Z"
   },
   {
    "duration": 25,
    "start_time": "2022-11-30T18:56:40.154Z"
   },
   {
    "duration": 9,
    "start_time": "2022-11-30T18:56:40.180Z"
   },
   {
    "duration": 24,
    "start_time": "2022-11-30T18:56:40.190Z"
   },
   {
    "duration": 23,
    "start_time": "2022-11-30T18:56:40.216Z"
   },
   {
    "duration": 49,
    "start_time": "2022-11-30T18:56:40.241Z"
   },
   {
    "duration": 94,
    "start_time": "2022-11-30T18:56:40.292Z"
   },
   {
    "duration": 93,
    "start_time": "2022-11-30T18:56:40.388Z"
   },
   {
    "duration": 160,
    "start_time": "2022-11-30T18:56:40.482Z"
   },
   {
    "duration": 164,
    "start_time": "2022-11-30T18:56:40.643Z"
   },
   {
    "duration": 251,
    "start_time": "2022-11-30T18:56:40.808Z"
   },
   {
    "duration": 177,
    "start_time": "2022-11-30T18:56:41.060Z"
   },
   {
    "duration": 16,
    "start_time": "2022-11-30T18:56:41.239Z"
   },
   {
    "duration": 28,
    "start_time": "2022-11-30T18:56:41.256Z"
   },
   {
    "duration": 267,
    "start_time": "2022-11-30T18:56:41.285Z"
   },
   {
    "duration": 144,
    "start_time": "2022-11-30T18:56:41.553Z"
   },
   {
    "duration": 14,
    "start_time": "2022-11-30T18:56:41.698Z"
   },
   {
    "duration": 11,
    "start_time": "2022-11-30T18:56:41.713Z"
   },
   {
    "duration": 11,
    "start_time": "2022-11-30T18:56:41.726Z"
   },
   {
    "duration": 39,
    "start_time": "2022-11-30T18:56:41.738Z"
   },
   {
    "duration": 17,
    "start_time": "2022-11-30T18:56:41.778Z"
   },
   {
    "duration": 15,
    "start_time": "2022-11-30T18:56:41.796Z"
   },
   {
    "duration": 16,
    "start_time": "2022-11-30T18:56:41.813Z"
   },
   {
    "duration": 18,
    "start_time": "2022-11-30T18:56:41.830Z"
   },
   {
    "duration": 46,
    "start_time": "2022-11-30T18:56:41.849Z"
   },
   {
    "duration": 31,
    "start_time": "2022-11-30T18:56:41.897Z"
   },
   {
    "duration": 5,
    "start_time": "2022-11-30T18:56:41.929Z"
   },
   {
    "duration": 18,
    "start_time": "2022-11-30T18:56:41.935Z"
   },
   {
    "duration": 40,
    "start_time": "2022-11-30T18:56:41.955Z"
   },
   {
    "duration": 57,
    "start_time": "2022-11-30T18:56:41.998Z"
   },
   {
    "duration": 25,
    "start_time": "2022-11-30T18:56:42.057Z"
   },
   {
    "duration": 15,
    "start_time": "2022-11-30T18:56:42.083Z"
   },
   {
    "duration": 27,
    "start_time": "2022-11-30T18:56:42.100Z"
   },
   {
    "duration": 24,
    "start_time": "2022-11-30T18:56:42.129Z"
   },
   {
    "duration": 32,
    "start_time": "2022-11-30T18:56:42.154Z"
   },
   {
    "duration": 38,
    "start_time": "2022-11-30T18:56:42.188Z"
   },
   {
    "duration": 22,
    "start_time": "2022-11-30T18:56:42.228Z"
   },
   {
    "duration": 39,
    "start_time": "2022-11-30T18:56:42.252Z"
   },
   {
    "duration": 5,
    "start_time": "2022-11-30T18:56:42.292Z"
   },
   {
    "duration": 207,
    "start_time": "2022-11-30T18:56:42.298Z"
   },
   {
    "duration": 12,
    "start_time": "2022-11-30T18:56:42.506Z"
   },
   {
    "duration": 21,
    "start_time": "2022-11-30T18:56:42.519Z"
   },
   {
    "duration": 96,
    "start_time": "2022-11-30T18:56:42.542Z"
   },
   {
    "duration": 3,
    "start_time": "2022-11-30T18:56:42.639Z"
   },
   {
    "duration": 14,
    "start_time": "2022-11-30T18:56:42.644Z"
   },
   {
    "duration": 870051,
    "start_time": "2022-11-30T18:56:42.660Z"
   },
   {
    "duration": 4,
    "start_time": "2022-11-30T19:11:12.713Z"
   },
   {
    "duration": 7,
    "start_time": "2022-11-30T19:11:12.718Z"
   },
   {
    "duration": 7,
    "start_time": "2022-11-30T19:11:12.726Z"
   },
   {
    "duration": 279570,
    "start_time": "2022-11-30T19:11:12.734Z"
   },
   {
    "duration": 4,
    "start_time": "2022-11-30T19:15:52.306Z"
   },
   {
    "duration": 107,
    "start_time": "2022-11-30T19:15:52.312Z"
   },
   {
    "duration": 4,
    "start_time": "2022-11-30T19:15:52.421Z"
   },
   {
    "duration": 5,
    "start_time": "2022-11-30T19:15:52.431Z"
   },
   {
    "duration": 8,
    "start_time": "2022-11-30T19:15:52.438Z"
   },
   {
    "duration": 81,
    "start_time": "2022-11-30T19:15:52.448Z"
   },
   {
    "duration": 5,
    "start_time": "2022-11-30T19:15:52.531Z"
   },
   {
    "duration": 1812,
    "start_time": "2022-12-01T18:41:25.694Z"
   },
   {
    "duration": 454,
    "start_time": "2022-12-01T18:41:27.508Z"
   },
   {
    "duration": 41,
    "start_time": "2022-12-01T18:41:27.964Z"
   },
   {
    "duration": 44,
    "start_time": "2022-12-01T18:41:28.007Z"
   },
   {
    "duration": 26,
    "start_time": "2022-12-01T18:41:28.052Z"
   },
   {
    "duration": 38,
    "start_time": "2022-12-01T18:41:28.080Z"
   },
   {
    "duration": 61,
    "start_time": "2022-12-01T18:41:28.120Z"
   },
   {
    "duration": 43,
    "start_time": "2022-12-01T18:41:28.183Z"
   },
   {
    "duration": 9,
    "start_time": "2022-12-01T18:41:28.228Z"
   },
   {
    "duration": 10,
    "start_time": "2022-12-01T18:41:28.239Z"
   },
   {
    "duration": 41,
    "start_time": "2022-12-01T18:41:28.251Z"
   },
   {
    "duration": 27,
    "start_time": "2022-12-01T18:41:28.294Z"
   },
   {
    "duration": 15,
    "start_time": "2022-12-01T18:41:28.323Z"
   },
   {
    "duration": 9,
    "start_time": "2022-12-01T18:41:28.340Z"
   },
   {
    "duration": 17,
    "start_time": "2022-12-01T18:41:28.352Z"
   },
   {
    "duration": 63,
    "start_time": "2022-12-01T18:41:28.370Z"
   },
   {
    "duration": 9,
    "start_time": "2022-12-01T18:41:28.435Z"
   },
   {
    "duration": 10,
    "start_time": "2022-12-01T18:41:28.446Z"
   },
   {
    "duration": 11,
    "start_time": "2022-12-01T18:41:28.458Z"
   },
   {
    "duration": 66,
    "start_time": "2022-12-01T18:41:28.471Z"
   },
   {
    "duration": 44,
    "start_time": "2022-12-01T18:41:28.539Z"
   },
   {
    "duration": 2055,
    "start_time": "2022-12-01T18:41:28.585Z"
   },
   {
    "duration": 2110,
    "start_time": "2022-12-01T18:41:30.641Z"
   },
   {
    "duration": 9,
    "start_time": "2022-12-01T18:41:32.753Z"
   },
   {
    "duration": 19,
    "start_time": "2022-12-01T18:41:32.764Z"
   },
   {
    "duration": 32,
    "start_time": "2022-12-01T18:41:32.784Z"
   },
   {
    "duration": 6,
    "start_time": "2022-12-01T18:41:32.817Z"
   },
   {
    "duration": 13,
    "start_time": "2022-12-01T18:41:32.827Z"
   },
   {
    "duration": 16,
    "start_time": "2022-12-01T18:41:32.841Z"
   },
   {
    "duration": 13,
    "start_time": "2022-12-01T18:41:32.858Z"
   },
   {
    "duration": 6,
    "start_time": "2022-12-01T18:41:32.872Z"
   },
   {
    "duration": 38,
    "start_time": "2022-12-01T18:41:32.879Z"
   },
   {
    "duration": 25,
    "start_time": "2022-12-01T18:41:32.919Z"
   },
   {
    "duration": 23,
    "start_time": "2022-12-01T18:41:32.946Z"
   },
   {
    "duration": 23,
    "start_time": "2022-12-01T18:41:32.970Z"
   },
   {
    "duration": 105,
    "start_time": "2022-12-01T18:41:33.015Z"
   },
   {
    "duration": 98,
    "start_time": "2022-12-01T18:41:33.121Z"
   },
   {
    "duration": 164,
    "start_time": "2022-12-01T18:41:33.220Z"
   },
   {
    "duration": 160,
    "start_time": "2022-12-01T18:41:33.385Z"
   },
   {
    "duration": 234,
    "start_time": "2022-12-01T18:41:33.547Z"
   },
   {
    "duration": 321,
    "start_time": "2022-12-01T18:41:33.783Z"
   },
   {
    "duration": 24,
    "start_time": "2022-12-01T18:41:34.107Z"
   },
   {
    "duration": 15,
    "start_time": "2022-12-01T18:41:34.133Z"
   },
   {
    "duration": 159,
    "start_time": "2022-12-01T18:41:34.150Z"
   },
   {
    "duration": 146,
    "start_time": "2022-12-01T18:41:34.311Z"
   },
   {
    "duration": 13,
    "start_time": "2022-12-01T18:41:34.459Z"
   },
   {
    "duration": 12,
    "start_time": "2022-12-01T18:41:34.473Z"
   },
   {
    "duration": 33,
    "start_time": "2022-12-01T18:41:34.487Z"
   },
   {
    "duration": 15,
    "start_time": "2022-12-01T18:41:34.522Z"
   },
   {
    "duration": 17,
    "start_time": "2022-12-01T18:41:34.539Z"
   },
   {
    "duration": 14,
    "start_time": "2022-12-01T18:41:34.558Z"
   },
   {
    "duration": 47,
    "start_time": "2022-12-01T18:41:34.575Z"
   },
   {
    "duration": 14,
    "start_time": "2022-12-01T18:41:34.624Z"
   },
   {
    "duration": 13,
    "start_time": "2022-12-01T18:41:34.639Z"
   },
   {
    "duration": 14,
    "start_time": "2022-12-01T18:41:34.653Z"
   },
   {
    "duration": 4,
    "start_time": "2022-12-01T18:41:34.669Z"
   },
   {
    "duration": 4,
    "start_time": "2022-12-01T18:41:34.674Z"
   },
   {
    "duration": 40,
    "start_time": "2022-12-01T18:41:34.680Z"
   },
   {
    "duration": 36,
    "start_time": "2022-12-01T18:41:34.721Z"
   },
   {
    "duration": 25,
    "start_time": "2022-12-01T18:41:34.759Z"
   },
   {
    "duration": 5,
    "start_time": "2022-12-01T18:41:34.786Z"
   },
   {
    "duration": 6,
    "start_time": "2022-12-01T18:41:34.815Z"
   },
   {
    "duration": 31,
    "start_time": "2022-12-01T18:41:34.822Z"
   },
   {
    "duration": 9,
    "start_time": "2022-12-01T18:41:34.854Z"
   },
   {
    "duration": 28,
    "start_time": "2022-12-01T18:41:34.864Z"
   },
   {
    "duration": 22,
    "start_time": "2022-12-01T18:41:34.893Z"
   },
   {
    "duration": 17,
    "start_time": "2022-12-01T18:41:34.917Z"
   },
   {
    "duration": 6,
    "start_time": "2022-12-01T18:41:34.935Z"
   },
   {
    "duration": 212,
    "start_time": "2022-12-01T18:41:34.942Z"
   },
   {
    "duration": 11,
    "start_time": "2022-12-01T18:41:35.156Z"
   },
   {
    "duration": 12,
    "start_time": "2022-12-01T18:41:35.169Z"
   },
   {
    "duration": 93,
    "start_time": "2022-12-01T18:41:35.183Z"
   },
   {
    "duration": 3,
    "start_time": "2022-12-01T18:41:35.277Z"
   },
   {
    "duration": 8,
    "start_time": "2022-12-01T18:41:35.282Z"
   }
  ],
  "kernelspec": {
   "display_name": "Python 3 (ipykernel)",
   "language": "python",
   "name": "python3"
  },
  "language_info": {
   "codemirror_mode": {
    "name": "ipython",
    "version": 3
   },
   "file_extension": ".py",
   "mimetype": "text/x-python",
   "name": "python",
   "nbconvert_exporter": "python",
   "pygments_lexer": "ipython3",
   "version": "3.9.18"
  },
  "toc": {
   "base_numbering": 1,
   "nav_menu": {},
   "number_sections": true,
   "sideBar": true,
   "skip_h1_title": true,
   "title_cell": "Table of Contents",
   "title_sidebar": "Contents",
   "toc_cell": false,
   "toc_position": {
    "height": "calc(100% - 180px)",
    "left": "10px",
    "top": "150px",
    "width": "512px"
   },
   "toc_section_display": true,
   "toc_window_display": true
  },
  "varInspector": {
   "cols": {
    "lenName": 16,
    "lenType": 16,
    "lenVar": 40
   },
   "kernels_config": {
    "python": {
     "delete_cmd_postfix": "",
     "delete_cmd_prefix": "del ",
     "library": "var_list.py",
     "varRefreshCmd": "print(var_dic_list())"
    },
    "r": {
     "delete_cmd_postfix": ") ",
     "delete_cmd_prefix": "rm(",
     "library": "var_list.r",
     "varRefreshCmd": "cat(var_dic_list()) "
    }
   },
   "types_to_exclude": [
    "module",
    "function",
    "builtin_function_or_method",
    "instance",
    "_Feature"
   ],
   "window_display": false
  }
 },
 "nbformat": 4,
 "nbformat_minor": 4
}
